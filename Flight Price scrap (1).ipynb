{
 "cells": [
  {
   "cell_type": "code",
   "execution_count": 26,
   "id": "ca02973d",
   "metadata": {},
   "outputs": [],
   "source": [
    "import selenium\n",
    "import pandas as pd\n",
    "from selenium import webdriver\n",
    "import warnings\n",
    "warnings.filterwarnings('ignore')\n",
    "import time\n",
    "from selenium.common.exceptions import NoSuchElementException, ElementNotInteractableException\n",
    "from selenium.webdriver.support.ui import WebDriverWait\n",
    "from selenium.webdriver.support import expected_conditions as EC\n",
    "import requests"
   ]
  },
  {
   "cell_type": "code",
   "execution_count": 188,
   "id": "85f1a5b2",
   "metadata": {},
   "outputs": [],
   "source": [
    "\n",
    "from selenium.webdriver.common.by import By\n",
    "from selenium.webdriver.common.keys import Keys\n",
    "from datetime import datetime\n",
    "from datetime import date\n",
    "import os.path\n",
    "import re\n",
    "import sys\n",
    "import glob\n",
    "\n"
   ]
  },
  {
   "cell_type": "code",
   "execution_count": 194,
   "id": "c6f5db7a",
   "metadata": {},
   "outputs": [],
   "source": [
    "driver= webdriver.Chrome(r'C:\\Users\\user\\Downloads\\chromedriver_win32 (3)\\chromedriver.exe')"
   ]
  },
  {
   "cell_type": "code",
   "execution_count": 195,
   "id": "50bd22f5",
   "metadata": {},
   "outputs": [],
   "source": [
    "url='https://www.expedia.co.in/Flights'"
   ]
  },
  {
   "cell_type": "code",
   "execution_count": 196,
   "id": "bf699df2",
   "metadata": {},
   "outputs": [],
   "source": [
    "driver.get(url)"
   ]
  },
  {
   "cell_type": "code",
   "execution_count": 197,
   "id": "28648c4e",
   "metadata": {},
   "outputs": [],
   "source": [
    "driver.maximize_window()\n",
    "time.sleep(2)"
   ]
  },
  {
   "cell_type": "code",
   "execution_count": 198,
   "id": "ecdb63ef",
   "metadata": {},
   "outputs": [],
   "source": [
    "#For departure selection\n",
    "def dep_place_chooser(dep_place):\n",
    "    fly_from = driver.find_element_by_xpath(\"//button[contains(@aria-label,'Leaving from') and contains(@class,'uitk-fake-input uitk-form-field-trigger')]\")\n",
    "    time.sleep(3)\n",
    "    fly_from.send_keys('  ' + dep_place + Keys.ENTER)\n",
    "    time.sleep(2)\n",
    "    "
   ]
  },
  {
   "cell_type": "code",
   "execution_count": 199,
   "id": "b30fad5d",
   "metadata": {},
   "outputs": [],
   "source": [
    "# For arrival place name\n",
    "def arr_place_chooser(arr_place):\n",
    "    \n",
    "    fly_to = driver.find_element_by_xpath(\"//button[contains(@aria-label,'Going to') and contains(@class,'uitk-fake-input uitk-form-field-trigger')]\")\n",
    "    time.sleep(2)\n",
    "    fly_to.send_keys('  ' + arr_place + Keys.ENTER)\n",
    "    time.sleep(2)\n",
    "    "
   ]
  },
  {
   "cell_type": "code",
   "execution_count": 169,
   "id": "bf826fe9",
   "metadata": {},
   "outputs": [],
   "source": [
    "# Departure date\n",
    "def dep_date_chooser(month, day, year):\n",
    "    dep_date_button = driver.find_element_by_xpath(\"//button[contains(@class,'uitk-faux-input uitk-form-field-trigger') and contains(@id,'d1-btn')]\")\n",
    "    dep_date_button.send_keys(month + '/' + day + '/' + year + Keys.ENTER)"
   ]
  },
  {
   "cell_type": "code",
   "execution_count": 170,
   "id": "3ac622bd",
   "metadata": {},
   "outputs": [],
   "source": [
    "# Return date\n",
    "def return_date_chooser(month, day, year):\n",
    "    return_date_button = driver.find_element_by_xpath(\"//button[contains(@class,'uitk-faux-input uitk-form-field-trigger') and contains(@id,'d2-btn')]\")\n",
    "\n",
    "    for i in range(11):\n",
    "        return_date_button.send_keys(Keys.BACKSPACE)\n",
    "    return_date_button.send_keys(month + '/' + day + '/' + year)"
   ]
  },
  {
   "cell_type": "code",
   "execution_count": 200,
   "id": "20a8e646",
   "metadata": {},
   "outputs": [],
   "source": [
    "def search():\n",
    "    search = driver.find_element_by_xpath(\"//button[@class='uitk-button uitk-button-large uitk-button-fullWidth uitk-button-has-text uitk-button-primary']\")\n",
    "    search.click()\n",
    "    time.sleep(15)\n",
    "    print('Results ready!')"
   ]
  },
  {
   "cell_type": "code",
   "execution_count": 201,
   "id": "a46ee749",
   "metadata": {},
   "outputs": [],
   "source": [
    "df = pd.DataFrame()\n",
    "def compile_data():\n",
    "    global df\n",
    "    global dep_times\n",
    "    global arr_times\n",
    "    global airlines\n",
    "    global price\n",
    "    global durations\n",
    "    global stops\n",
    "    global layovers\n",
    "\n",
    "    #departure times\n",
    "    dep_times_tag = driver.find_elements_by_xpath(\"//span[@data-test-id='departure-time']\")\n",
    "    dep_times = [value.text for value in dep_times_tag ]\n",
    "\n",
    "    #arrival times\n",
    "    arr_times_tag  = driver.find_elements_by_xpath(\"//span[@data-test-id='arrival-time']\")\n",
    "    arr_times = [value.text for value in arr_times_tag ]\n",
    "\n",
    "    #airline name\n",
    "    airlines_tag  = driver.find_elements_by_xpath(\"//span[@data-test-id='airline-name']\")\n",
    "    airlines = [value.text for value in airlines_tag ]\n",
    "\n",
    "    #prices\n",
    "    prices_tag  = driver.find_elements_by_xpath(\"//span[@data-test-id='listing-price-dollars']\")\n",
    "    price = [value.text.split('/div')[1] for value in prices_tag ]\n",
    "\n",
    "    #durations\n",
    "    durations_tag  = driver.find_elements_by_xpath(\"//span[@data-test-id='duration']\")\n",
    "    durations = [value.text for value in durations_tag ]\n",
    "\n",
    "    #stops\n",
    "    stops_tag  = driver.find_elements_by_xpath(\"//span[@class='number-stops']\")\n",
    "    stops = [value.text for value in stops_tag ]\n",
    "\n",
    "    #layovers\n",
    "    layovers_tag  = driver.find_elements_by_xpath(\"//span[@data-test-id='layover-airport-stops']\")\n",
    "    layovers = [value.text for value in layovers_tag ]\n",
    "\n",
    "    now = datetime.now()\n",
    "    current_date = (str(now.year) + '-' + str(now.month) + '-' + str(now.day))\n",
    "    current_time = (str(now.hour) + ':' + str(now.minute))\n",
    "    current_price = 'price' + '(' + current_date + '---' + current_time + ')'\n",
    "    for i in range(len(dep_times)):\n",
    "        try:\n",
    "            df.loc[i, 'departure_time'] = dep_times[i]\n",
    "        except Exception as e:\n",
    "            pass\n",
    "        try:\n",
    "            df.loc[i, 'arrival_time'] = arr_times[i]\n",
    "        except Exception as e:\n",
    "            pass\n",
    "        try:\n",
    "            df.loc[i, 'airline'] = airlines[i]\n",
    "        except Exception as e:\n",
    "            pass\n",
    "        try:\n",
    "            df.loc[i, 'duration'] = durations[i]\n",
    "        except Exception as e:\n",
    "            pass\n",
    "        try:\n",
    "            df.loc[i, 'stops'] = stops[i]\n",
    "        except Exception as e:\n",
    "            pass\n",
    "        try:\n",
    "            df.loc[i, 'layovers'] = layovers[i]\n",
    "        except Exception as e:\n",
    "            pass\n",
    "        try:\n",
    "            df.loc[i, str(current_price)] = price[i]\n",
    "        except Exception as e:\n",
    "            pass\n",
    "\n",
    "    print('Comma Separated Value File Created!')"
   ]
  },
  {
   "cell_type": "code",
   "execution_count": 203,
   "id": "e14b407d",
   "metadata": {},
   "outputs": [
    {
     "name": "stdout",
     "output_type": "stream",
     "text": [
      "Results ready!\n",
      "Comma Separated Value File Created!\n",
      "run 0 completed!\n",
      "Results ready!\n",
      "Comma Separated Value File Created!\n",
      "run 1 completed!\n",
      "Results ready!\n",
      "Comma Separated Value File Created!\n",
      "run 2 completed!\n",
      "Results ready!\n",
      "Comma Separated Value File Created!\n",
      "run 3 completed!\n",
      "Results ready!\n",
      "Comma Separated Value File Created!\n",
      "run 4 completed!\n",
      "Results ready!\n",
      "Comma Separated Value File Created!\n",
      "run 5 completed!\n",
      "Results ready!\n",
      "Comma Separated Value File Created!\n",
      "run 6 completed!\n",
      "Results ready!\n",
      "Comma Separated Value File Created!\n",
      "run 7 completed!\n"
     ]
    }
   ],
   "source": [
    "for i in range(8):    \n",
    "    driver.get(url)\n",
    "    time.sleep(5)\n",
    "\n",
    "\n",
    "    dep_place_chooser('DEL')\n",
    "\n",
    "    arr_place_chooser('BOM')\n",
    "\n",
    "    dep_date_chooser('08', '08', '2022')\n",
    "\n",
    "    return_date_chooser('08', '09', '2022')\n",
    "\n",
    "    search()\n",
    "\n",
    "    compile_data()\n",
    "\n",
    "    print('run {} completed!'.format(i))\n",
    "\n",
    "    df.to_csv('Flight_Price_Data.csv')\n",
    "\n",
    "    time.sleep(15)"
   ]
  },
  {
   "cell_type": "code",
   "execution_count": 204,
   "id": "18631617",
   "metadata": {},
   "outputs": [],
   "source": [
    "driver.close()"
   ]
  },
  {
   "cell_type": "code",
   "execution_count": null,
   "id": "85c65035",
   "metadata": {},
   "outputs": [],
   "source": []
  }
 ],
 "metadata": {
  "kernelspec": {
   "display_name": "Python 3",
   "language": "python",
   "name": "python3"
  },
  "language_info": {
   "codemirror_mode": {
    "name": "ipython",
    "version": 3
   },
   "file_extension": ".py",
   "mimetype": "text/x-python",
   "name": "python",
   "nbconvert_exporter": "python",
   "pygments_lexer": "ipython3",
   "version": "3.8.8"
  }
 },
 "nbformat": 4,
 "nbformat_minor": 5
}
